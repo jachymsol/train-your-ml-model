{
 "cells": [
  {
   "cell_type": "code",
   "execution_count": 66,
   "metadata": {},
   "outputs": [],
   "source": [
    "import tensorflow as tf\n",
    "from tensorflow import keras\n",
    "import numpy as np\n",
    "from pathlib import Path\n",
    "from PIL import Image\n",
    "from scipy.signal import find_peaks"
   ]
  },
  {
   "cell_type": "code",
   "execution_count": 67,
   "metadata": {},
   "outputs": [],
   "source": [
    "train_dataset = Path('../datasets/train')"
   ]
  },
  {
   "cell_type": "code",
   "execution_count": 119,
   "metadata": {},
   "outputs": [],
   "source": [
    "def transform(image_array):\n",
    "    gray = Image.fromarray(image_array.reshape(128, 128), mode='L')\n",
    "\n",
    "    hist, _ = np.histogram(np.array(gray), bins=257, range=(-1, 255))\n",
    "    peaks, _ = find_peaks(hist, height=15, width=3, distance=20)\n",
    "\n",
    "    threshold = np.mean(peaks)\n",
    "    bw = gray.point(lambda x: 255 if x > threshold else 0)\n",
    "\n",
    "    bw_array = np.array(bw).astype('float32')\n",
    "    return np.expand_dims(bw_array, -1)\n"
   ]
  },
  {
   "cell_type": "code",
   "execution_count": 120,
   "metadata": {},
   "outputs": [],
   "source": [
    "datagen = keras.preprocessing.image.ImageDataGenerator(\n",
    "    rescale=1./255,\n",
    "    preprocessing_function=transform\n",
    ")"
   ]
  },
  {
   "cell_type": "code",
   "execution_count": 121,
   "metadata": {},
   "outputs": [
    {
     "name": "stdout",
     "output_type": "stream",
     "text": [
      "Found 50 images belonging to 2 classes.\n"
     ]
    }
   ],
   "source": [
    "train_generator = datagen.flow_from_directory(\n",
    "    train_dataset,\n",
    "    target_size=(128, 128),\n",
    "    batch_size=32,\n",
    "    class_mode='binary',\n",
    "    color_mode='grayscale'\n",
    ")\n"
   ]
  },
  {
   "cell_type": "code",
   "execution_count": 122,
   "metadata": {},
   "outputs": [],
   "source": [
    "model = keras.Sequential([\n",
    "    keras.layers.Conv2D(32, (3,3), activation='relu', input_shape=(128, 128, 1)),\n",
    "    keras.layers.MaxPooling2D((2,2)),\n",
    "    keras.layers.Conv2D(64, (3,3), activation='relu'),\n",
    "    keras.layers.MaxPooling2D((2,2)),\n",
    "    keras.layers.Conv2D(64, (3,3), activation='relu'),\n",
    "    keras.layers.Flatten(),\n",
    "    keras.layers.Dense(64, activation='relu'),\n",
    "    keras.layers.Dense(1, activation='sigmoid')\n",
    "])\n",
    "\n",
    "model.compile(\n",
    "    optimizer=keras.optimizers.legacy.Adam(0.001),\n",
    "    loss=tf.keras.losses.BinaryCrossentropy(),\n",
    "    metrics=['accuracy']\n",
    ")\n"
   ]
  },
  {
   "cell_type": "code",
   "execution_count": 123,
   "metadata": {},
   "outputs": [
    {
     "name": "stdout",
     "output_type": "stream",
     "text": [
      "Epoch 1/10\n"
     ]
    },
    {
     "name": "stderr",
     "output_type": "stream",
     "text": [
      "/Users/jachym.solecky/.pyenv/versions/3.9.16/envs/ml/lib/python3.9/site-packages/numpy/core/fromnumeric.py:3432: RuntimeWarning: Mean of empty slice.\n",
      "  return _methods._mean(a, axis=axis, dtype=dtype,\n",
      "/Users/jachym.solecky/.pyenv/versions/3.9.16/envs/ml/lib/python3.9/site-packages/numpy/core/_methods.py:190: RuntimeWarning: invalid value encountered in double_scalars\n",
      "  ret = ret.dtype.type(ret / rcount)\n"
     ]
    },
    {
     "name": "stdout",
     "output_type": "stream",
     "text": [
      "2/2 [==============================] - 1s 175ms/step - loss: 0.8897 - accuracy: 0.5600\n",
      "Epoch 2/10\n",
      "2/2 [==============================] - 0s 159ms/step - loss: 0.7076 - accuracy: 0.5000\n",
      "Epoch 3/10\n",
      "2/2 [==============================] - 0s 84ms/step - loss: 0.6965 - accuracy: 0.4400\n",
      "Epoch 4/10\n",
      "2/2 [==============================] - 0s 75ms/step - loss: 0.6900 - accuracy: 0.5400\n",
      "Epoch 5/10\n",
      "2/2 [==============================] - 0s 84ms/step - loss: 0.6882 - accuracy: 0.5800\n",
      "Epoch 6/10\n",
      "2/2 [==============================] - 0s 82ms/step - loss: 0.6813 - accuracy: 0.6200\n",
      "Epoch 7/10\n",
      "2/2 [==============================] - 0s 75ms/step - loss: 0.6773 - accuracy: 0.6400\n",
      "Epoch 8/10\n",
      "2/2 [==============================] - 0s 139ms/step - loss: 0.6670 - accuracy: 0.5600\n",
      "Epoch 9/10\n",
      "2/2 [==============================] - 0s 74ms/step - loss: 0.6657 - accuracy: 0.5400\n",
      "Epoch 10/10\n",
      "2/2 [==============================] - 0s 137ms/step - loss: 0.6461 - accuracy: 0.6600\n"
     ]
    },
    {
     "data": {
      "text/plain": [
       "<keras.callbacks.History at 0x2aac653d0>"
      ]
     },
     "execution_count": 123,
     "metadata": {},
     "output_type": "execute_result"
    }
   ],
   "source": [
    "model.fit(train_generator, epochs=10)"
   ]
  },
  {
   "cell_type": "code",
   "execution_count": null,
   "metadata": {},
   "outputs": [],
   "source": []
  }
 ],
 "metadata": {
  "kernelspec": {
   "display_name": "ml",
   "language": "python",
   "name": "python3"
  },
  "language_info": {
   "codemirror_mode": {
    "name": "ipython",
    "version": 3
   },
   "file_extension": ".py",
   "mimetype": "text/x-python",
   "name": "python",
   "nbconvert_exporter": "python",
   "pygments_lexer": "ipython3",
   "version": "3.9.16"
  },
  "orig_nbformat": 4
 },
 "nbformat": 4,
 "nbformat_minor": 2
}
