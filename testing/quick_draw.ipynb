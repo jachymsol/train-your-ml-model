{
 "cells": [
  {
   "cell_type": "code",
   "execution_count": 5,
   "metadata": {},
   "outputs": [],
   "source": [
    "import numpy as np\n",
    "from pathlib import Path\n",
    "from PIL import Image\n",
    "import json"
   ]
  },
  {
   "cell_type": "code",
   "execution_count": 30,
   "metadata": {},
   "outputs": [
    {
     "data": {
      "image/png": "[encoded data removed]",
      "text/plain": [
       "<PIL.Image.Image image mode=L size=128x128>"
      ]
     },
     "execution_count": 30,
     "metadata": {},
     "output_type": "execute_result"
    }
   ],
   "source": [
    "houses = np.load('../datasets/quick_draw/numpy_bitmap/house.npy')\n",
    "house = houses[8].reshape(28,28)\n",
    "house = 255 - house\n",
    "house_image = Image.fromarray(house)\n",
    "house_image = house_image.resize((128, 128), resample=Image.Resampling.LANCZOS)\n",
    "house_image"
   ]
  },
  {
   "cell_type": "code",
   "execution_count": 31,
   "metadata": {},
   "outputs": [],
   "source": [
    "def convert_to_image(row):\n",
    "    reshaped = row.reshape(28, 28)\n",
    "    reshaped = 255 - reshaped\n",
    "    return Image.fromarray(reshaped).resize((128, 128), resample=Image.Resampling.LANCZOS)"
   ]
  },
  {
   "cell_type": "code",
   "execution_count": 32,
   "metadata": {},
   "outputs": [],
   "source": [
    "for i in range(500):\n",
    "    h = convert_to_image(houses[i])\n",
    "    h.save(f'../datasets/quick_draw/house/im_{str(i).zfill(6)}.png')"
   ]
  },
  {
   "cell_type": "code",
   "execution_count": 33,
   "metadata": {},
   "outputs": [],
   "source": [
    "trees = np.load('../datasets/quick_draw/numpy_bitmap/tree.npy')"
   ]
  },
  {
   "cell_type": "code",
   "execution_count": 34,
   "metadata": {},
   "outputs": [],
   "source": [
    "for i in range(500):\n",
    "    t = convert_to_image(trees[i])\n",
    "    t.save(f'../datasets/quick_draw/tree/im_{str(i).zfill(6)}.png')"
   ]
  },
  {
   "cell_type": "code",
   "execution_count": null,
   "metadata": {},
   "outputs": [],
   "source": []
  }
 ],
 "metadata": {
  "kernelspec": {
   "display_name": "ml",
   "language": "python",
   "name": "python3"
  },
  "language_info": {
   "codemirror_mode": {
    "name": "ipython",
    "version": 3
   },
   "file_extension": ".py",
   "mimetype": "text/x-python",
   "name": "python",
   "nbconvert_exporter": "python",
   "pygments_lexer": "ipython3",
   "version": "3.9.16"
  },
  "orig_nbformat": 4
 },
 "nbformat": 4,
 "nbformat_minor": 2
}
