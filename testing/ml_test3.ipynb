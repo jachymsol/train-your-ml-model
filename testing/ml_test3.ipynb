{
 "cells": [
  {
   "cell_type": "code",
   "execution_count": 29,
   "metadata": {},
   "outputs": [],
   "source": [
    "import tensorflow as tf\n",
    "from tensorflow import keras\n",
    "import numpy as np\n",
    "from PIL import Image"
   ]
  },
  {
   "cell_type": "code",
   "execution_count": 73,
   "metadata": {},
   "outputs": [],
   "source": [
    "(x_train, y_train), (x_test, y_test) = tf.keras.datasets.cifar10.load_data()\n",
    "x_train = x_train[np.in1d(y_train, (1, 5))]\n",
    "y_train = y_train[np.in1d(y_train, (1, 5))]\n",
    "x_test = x_test[np.in1d(y_test, (1, 5))]\n",
    "y_test = y_test[np.in1d(y_test, (1, 5))]\n",
    "y_train[y_train == 5] = 0\n",
    "y_test[y_test == 5] = 0"
   ]
  },
  {
   "cell_type": "code",
   "execution_count": 93,
   "metadata": {},
   "outputs": [],
   "source": [
    "x_train = x_train / 255.0\n",
    "x_test = x_test / 255.0"
   ]
  },
  {
   "cell_type": "code",
   "execution_count": 75,
   "metadata": {},
   "outputs": [
    {
     "name": "stdout",
     "output_type": "stream",
     "text": [
      "(10000, 32, 32, 3)\n",
      "(10000, 1)\n",
      "(2000, 32, 32, 3)\n",
      "(2000, 1)\n"
     ]
    }
   ],
   "source": [
    "print(x_train.shape)\n",
    "print(y_train.shape)\n",
    "print(x_test.shape)\n",
    "print(y_test.shape)"
   ]
  },
  {
   "cell_type": "code",
   "execution_count": 76,
   "metadata": {},
   "outputs": [],
   "source": [
    "Image.fromarray(x_test[1], mode=\"RGB\").show()"
   ]
  },
  {
   "cell_type": "code",
   "execution_count": 88,
   "metadata": {},
   "outputs": [],
   "source": [
    "model = keras.Sequential([\n",
    "    keras.layers.Conv2D(32, (3,3), activation='relu', input_shape=(32, 32, 3)),\n",
    "    keras.layers.MaxPooling2D((2,2)),\n",
    "    keras.layers.Conv2D(64, (3,3), activation='relu'),\n",
    "    keras.layers.MaxPooling2D((2,2)),\n",
    "    keras.layers.Conv2D(64, (3,3), activation='relu'),\n",
    "    keras.layers.Flatten(),\n",
    "    keras.layers.Dense(64, activation='relu'),\n",
    "    keras.layers.Dense(2)\n",
    "])"
   ]
  },
  {
   "cell_type": "code",
   "execution_count": 89,
   "metadata": {},
   "outputs": [],
   "source": [
    "model.compile(\n",
    "    optimizer=keras.optimizers.legacy.Adam(0.001),\n",
    "    loss=tf.keras.losses.SparseCategoricalCrossentropy(from_logits=True),\n",
    "    metrics=['accuracy']\n",
    ")"
   ]
  },
  {
   "cell_type": "code",
   "execution_count": 97,
   "metadata": {},
   "outputs": [
    {
     "name": "stdout",
     "output_type": "stream",
     "text": [
      "Epoch 1/10\n",
      "10/10 [==============================] - 1s 139ms/step - loss: 0.0190 - accuracy: 0.9967 - val_loss: 0.0953 - val_accuracy: 0.9680\n",
      "Epoch 2/10\n",
      "10/10 [==============================] - 0s 40ms/step - loss: 0.0156 - accuracy: 0.9933 - val_loss: 0.0869 - val_accuracy: 0.9720\n",
      "Epoch 3/10\n",
      "10/10 [==============================] - 0s 39ms/step - loss: 0.0078 - accuracy: 1.0000 - val_loss: 0.0816 - val_accuracy: 0.9715\n",
      "Epoch 4/10\n",
      "10/10 [==============================] - 0s 38ms/step - loss: 0.0059 - accuracy: 1.0000 - val_loss: 0.0773 - val_accuracy: 0.9745\n",
      "Epoch 5/10\n",
      "10/10 [==============================] - 0s 42ms/step - loss: 0.0026 - accuracy: 1.0000 - val_loss: 0.0795 - val_accuracy: 0.9710\n",
      "Epoch 6/10\n",
      "10/10 [==============================] - 0s 39ms/step - loss: 0.0022 - accuracy: 1.0000 - val_loss: 0.0770 - val_accuracy: 0.9755\n",
      "Epoch 7/10\n",
      "10/10 [==============================] - 0s 39ms/step - loss: 0.0012 - accuracy: 1.0000 - val_loss: 0.0796 - val_accuracy: 0.9735\n",
      "Epoch 8/10\n",
      "10/10 [==============================] - 0s 43ms/step - loss: 0.0011 - accuracy: 1.0000 - val_loss: 0.0780 - val_accuracy: 0.9770\n",
      "Epoch 9/10\n",
      "10/10 [==============================] - 0s 40ms/step - loss: 9.7006e-04 - accuracy: 1.0000 - val_loss: 0.0776 - val_accuracy: 0.9770\n",
      "Epoch 10/10\n",
      "10/10 [==============================] - 0s 39ms/step - loss: 9.0298e-04 - accuracy: 1.0000 - val_loss: 0.0783 - val_accuracy: 0.9775\n"
     ]
    },
    {
     "data": {
      "text/plain": [
       "<keras.callbacks.History at 0x17661fb20>"
      ]
     },
     "execution_count": 97,
     "metadata": {},
     "output_type": "execute_result"
    }
   ],
   "source": [
    "model.fit(x_train[:300], y_train[:300], epochs=10, validation_data=(x_test, y_test))"
   ]
  },
  {
   "cell_type": "code",
   "execution_count": 98,
   "metadata": {},
   "outputs": [
    {
     "name": "stdout",
     "output_type": "stream",
     "text": [
      "63/63 - 0s - loss: 0.0783 - accuracy: 0.9775 - 284ms/epoch - 5ms/step\n"
     ]
    },
    {
     "data": {
      "text/plain": [
       "[0.07829855382442474, 0.9775000214576721]"
      ]
     },
     "execution_count": 98,
     "metadata": {},
     "output_type": "execute_result"
    }
   ],
   "source": [
    "model.evaluate(x_test, y_test, verbose=2)"
   ]
  },
  {
   "cell_type": "code",
   "execution_count": 99,
   "metadata": {},
   "outputs": [
    {
     "name": "stdout",
     "output_type": "stream",
     "text": [
      "[[1]\n",
      " [1]\n",
      " [0]\n",
      " [0]\n",
      " [0]]\n"
     ]
    },
    {
     "data": {
      "text/plain": [
       "<tf.Tensor: shape=(5, 2), dtype=float32, numpy=\n",
       "array([[-1.4690973 ,  0.33736795],\n",
       "       [-6.1949034 ,  2.4544213 ],\n",
       "       [ 3.4850748 , -2.6558356 ],\n",
       "       [ 1.20736   , -1.641212  ],\n",
       "       [ 8.415024  , -5.4924364 ]], dtype=float32)>"
      ]
     },
     "execution_count": 99,
     "metadata": {},
     "output_type": "execute_result"
    }
   ],
   "source": [
    "print(y_test[0:5])\n",
    "model(x_test[0:5])\n"
   ]
  },
  {
   "cell_type": "code",
   "execution_count": null,
   "metadata": {},
   "outputs": [],
   "source": []
  }
 ],
 "metadata": {
  "kernelspec": {
   "display_name": "ml",
   "language": "python",
   "name": "python3"
  },
  "language_info": {
   "codemirror_mode": {
    "name": "ipython",
    "version": 3
   },
   "file_extension": ".py",
   "mimetype": "text/x-python",
   "name": "python",
   "nbconvert_exporter": "python",
   "pygments_lexer": "ipython3",
   "version": "3.9.16"
  },
  "orig_nbformat": 4
 },
 "nbformat": 4,
 "nbformat_minor": 2
}
