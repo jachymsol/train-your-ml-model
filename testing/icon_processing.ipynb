{
 "cells": [
  {
   "cell_type": "code",
   "execution_count": 3,
   "metadata": {},
   "outputs": [],
   "source": [
    "import numpy as np\n",
    "from pathlib import Path\n",
    "from PIL import Image"
   ]
  },
  {
   "cell_type": "code",
   "execution_count": 4,
   "metadata": {},
   "outputs": [],
   "source": [
    "icon = Image.open('../src/icons/preview_FILL0_wght400_GRAD0_opsz48.png')"
   ]
  },
  {
   "cell_type": "code",
   "execution_count": 5,
   "metadata": {},
   "outputs": [],
   "source": [
    "inverted_icon = Image.new(\"RGBA\", (icon.width, icon.height), (0, 0, 0, 0))\n",
    "\n",
    "for x in range(icon.width):\n",
    "        for y in range(icon.height):\n",
    "            # Get the pixel value\n",
    "            r, g, b, a = icon.getpixel((x, y))\n",
    "            \n",
    "            # Invert the color channels\n",
    "            inverted_r = 255 - r\n",
    "            inverted_g = 255 - g\n",
    "            inverted_b = 255 - b\n",
    "            \n",
    "            # Set the inverted color in the new image\n",
    "            inverted_icon.putpixel((x, y), (inverted_r, inverted_g, inverted_b, a))"
   ]
  },
  {
   "cell_type": "code",
   "execution_count": 6,
   "metadata": {},
   "outputs": [],
   "source": [
    "inverted_icon.save('../src/icons/preview.png')"
   ]
  },
  {
   "cell_type": "code",
   "execution_count": null,
   "metadata": {},
   "outputs": [],
   "source": []
  }
 ],
 "metadata": {
  "kernelspec": {
   "display_name": "ml",
   "language": "python",
   "name": "python3"
  },
  "language_info": {
   "codemirror_mode": {
    "name": "ipython",
    "version": 3
   },
   "file_extension": ".py",
   "mimetype": "text/x-python",
   "name": "python",
   "nbconvert_exporter": "python",
   "pygments_lexer": "ipython3",
   "version": "3.9.16"
  },
  "orig_nbformat": 4
 },
 "nbformat": 4,
 "nbformat_minor": 2
}
